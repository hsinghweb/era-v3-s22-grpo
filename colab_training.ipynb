{
  "cells": [
    {
      "cell_type": "markdown",
      "metadata": {},
      "source": [
        "# Training Phi-2 with QLoRA and GRPO on Google Colab\n",
        "\n",
        "This notebook provides step-by-step instructions for training the Phi-2 model using QLoRA and GRPO on Google Colab."
      ]
    },
    {
      "cell_type": "markdown",
      "metadata": {},
      "source": [
        "## 1. Setup Environment\n",
        "\n",
        "First, let's install the required dependencies and mount Google Drive for storage."
      ]
    },
    {
      "cell_type": "code",
      "execution_count": null,
      "metadata": {},
      "outputs": [],
      "source": [
        "from google.colab import drive\n",
        "drive.mount('/content/drive')"
      ]
    },
    {
      "cell_type": "code",
      "execution_count": null,
      "metadata": {},
      "outputs": [],
      "source": [
        "!pip install -q transformers==4.36.2 peft==0.7.1 bitsandbytes==0.41.3 trl==0.7.4 accelerate==0.25.0 wandb\n",
        "!pip install -q torch==2.1.2 torchvision==0.16.2 torchaudio==2.1.2 --index-url https://download.pytorch.org/whl/cu118"
      ]
    },
    {
      "cell_type": "markdown",
      "metadata": {},
      "source": [
        "## 2. Clone Repository and Setup Project\n",
        "\n",
        "Clone the repository and set up the project structure."
      ]
    },
    {
      "cell_type": "code",
      "execution_count": null,
      "metadata": {},
      "outputs": [],
      "source": [
        "!git clone https://github.com/hsinghweb/era-v3-s22-grpo.git\n",
        "!cd era-v3-s22-grpo"
      ]
    },
    {
      "cell_type": "markdown",
      "metadata": {},
      "source": [
        "## 3. Modify Training Script\n",
        "\n",
        "Create a modified version of the training script optimized for Colab."
      ]
    },
    {
      "cell_type": "code",
      "execution_count": null,
      "metadata": {},
      "outputs": [],
      "source": [
        "import os\n",
        "\n",
        "# Set output directory in Google Drive\n",
        "OUTPUT_DIR = \"/content/drive/MyDrive/phi2-qlora-grpo\"\n",
        "os.makedirs(OUTPUT_DIR, exist_ok=True)\n",
        "\n",
        "# Rest of the training script from train.py with the following modifications:\n",
        "# 1. Reduced batch size and gradient accumulation for Colab's GPU\n",
        "BATCH_SIZE = 2\n",
        "\n",
        "# 2. Enable gradient checkpointing for memory efficiency\n",
        "model.gradient_checkpointing_enable()\n",
        "\n",
        "# 3. Modified training arguments\n",
        "training_args = TrainingArguments(\n",
        "    output_dir=OUTPUT_DIR,\n",
        "    num_train_epochs=NUM_EPOCHS,\n",
        "    per_device_train_batch_size=BATCH_SIZE,\n",
        "    gradient_accumulation_steps=8,  # Increased for stability\n",
        "    learning_rate=LEARNING_RATE,\n",
        "    weight_decay=0.01,\n",
        "    warmup_ratio=0.03,\n",
        "    logging_steps=5,\n",
        "    save_strategy=\"epoch\",\n",
        "    evaluation_strategy=\"no\",\n",
        "    lr_scheduler_type=\"cosine\",\n",
        "    report_to=\"wandb\",\n",
        "    gradient_checkpointing=True,\n",
        "    fp16=True  # Enable mixed precision training\n",
        ")\n",
        "\n",
        "# Rest of the training code remains the same"
      ]
    },
    {
      "cell_type": "markdown",
      "metadata": {},
      "source": [
        "## 4. Start Training\n",
        "\n",
        "Initialize Weights & Biases for tracking and start the training process."
      ]
    },
    {
      "cell_type": "code",
      "execution_count": null,
      "metadata": {},
      "outputs": [],
      "source": [
        "import wandb\n",
        "wandb.login()  # Login to your W&B account\n",
        "\n",
        "# Start training\n",
        "trainer.train()"
      ]
    },
    {
      "cell_type": "markdown",
      "metadata": {},
      "source": [
        "## 5. Save the Model\n",
        "\n",
        "Save the trained model to Google Drive."
      ]
    },
    {
      "cell_type": "code",
      "execution_count": null,
      "metadata": {},
      "outputs": [],
      "source": [
        "# Save the final model\n",
        "trainer.save_model()\n",
        "print(f\"Model saved to {OUTPUT_DIR}\")"
      ]
    }
  ],
  "metadata": {
    "accelerator": "GPU",
    "colab": {
      "gpuType": "T4",
      "provenance": []
    },
    "kernelspec": {
      "display_name": "Python 3",
      "name": "python3"
    },
    "language_info": {
      "name": "python"
    }
  },
  "nbformat": 4,
  "nbformat_minor": 0
}
